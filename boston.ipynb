{
  "nbformat": 4,
  "nbformat_minor": 0,
  "metadata": {
    "colab": {
      "name": "boston.ipynb",
      "provenance": [],
      "collapsed_sections": [],
      "authorship_tag": "ABX9TyMJOAcQ4GiRbCBy9emCuyeB",
      "include_colab_link": true
    },
    "kernelspec": {
      "name": "python3",
      "display_name": "Python 3"
    },
    "language_info": {
      "name": "python"
    }
  },
  "cells": [
    {
      "cell_type": "markdown",
      "metadata": {
        "id": "view-in-github",
        "colab_type": "text"
      },
      "source": [
        "<a href=\"https://colab.research.google.com/github/jang-jinyeol/Machine_Learning/blob/main/boston.ipynb\" target=\"_parent\"><img src=\"https://colab.research.google.com/assets/colab-badge.svg\" alt=\"Open In Colab\"/></a>"
      ]
    },
    {
      "cell_type": "code",
      "metadata": {
        "colab": {
          "base_uri": "https://localhost:8080/",
          "height": 370
        },
        "id": "QcX-c-NYuKt6",
        "outputId": "6931a43b-479b-4b64-c7e7-bcf46fc05cac"
      },
      "source": [
        "from sklearn.datasets import load_boston\n",
        "boston = load_boston()\n",
        "print(\"데이터의 형태: {}\".format(boston.data.shape))"
      ],
      "execution_count": 7,
      "outputs": [
        {
          "output_type": "error",
          "ename": "ModuleNotFoundError",
          "evalue": "ignored",
          "traceback": [
            "\u001b[0;31m---------------------------------------------------------------------------\u001b[0m",
            "\u001b[0;31mModuleNotFoundError\u001b[0m                       Traceback (most recent call last)",
            "\u001b[0;32m<ipython-input-7-f09ffc2cde8d>\u001b[0m in \u001b[0;36m<module>\u001b[0;34m()\u001b[0m\n\u001b[0;32m----> 1\u001b[0;31m \u001b[0;32mimport\u001b[0m \u001b[0mmglearn\u001b[0m\u001b[0;34m\u001b[0m\u001b[0;34m\u001b[0m\u001b[0m\n\u001b[0m\u001b[1;32m      2\u001b[0m \u001b[0;32mfrom\u001b[0m \u001b[0msklearn\u001b[0m\u001b[0;34m.\u001b[0m\u001b[0mdatasets\u001b[0m \u001b[0;32mimport\u001b[0m \u001b[0mload_boston\u001b[0m\u001b[0;34m\u001b[0m\u001b[0;34m\u001b[0m\u001b[0m\n\u001b[1;32m      3\u001b[0m \u001b[0mboston\u001b[0m \u001b[0;34m=\u001b[0m \u001b[0mload_boston\u001b[0m\u001b[0;34m(\u001b[0m\u001b[0;34m)\u001b[0m\u001b[0;34m\u001b[0m\u001b[0;34m\u001b[0m\u001b[0m\n\u001b[1;32m      4\u001b[0m \u001b[0mprint\u001b[0m\u001b[0;34m(\u001b[0m\u001b[0;34m\"데이터의 형태: {}\"\u001b[0m\u001b[0;34m.\u001b[0m\u001b[0mformat\u001b[0m\u001b[0;34m(\u001b[0m\u001b[0mboston\u001b[0m\u001b[0;34m.\u001b[0m\u001b[0mdata\u001b[0m\u001b[0;34m.\u001b[0m\u001b[0mshape\u001b[0m\u001b[0;34m)\u001b[0m\u001b[0;34m)\u001b[0m\u001b[0;34m\u001b[0m\u001b[0;34m\u001b[0m\u001b[0m\n",
            "\u001b[0;31mModuleNotFoundError\u001b[0m: No module named 'mglearn'",
            "",
            "\u001b[0;31m---------------------------------------------------------------------------\u001b[0;32m\nNOTE: If your import is failing due to a missing package, you can\nmanually install dependencies using either !pip or !apt.\n\nTo view examples of installing some common dependencies, click the\n\"Open Examples\" button below.\n\u001b[0;31m---------------------------------------------------------------------------\u001b[0m\n"
          ],
          "errorDetails": {
            "actions": [
              {
                "action": "open_url",
                "actionText": "Open Examples",
                "url": "/notebooks/snippets/importing_libraries.ipynb"
              }
            ]
          }
        }
      ]
    },
    {
      "cell_type": "code",
      "metadata": {
        "colab": {
          "base_uri": "https://localhost:8080/"
        },
        "id": "mqg3fNLUuqma",
        "outputId": "e6a6721f-f106-4751-ad6f-dabf61d31989"
      },
      "source": [
        "print(\"{}\".format(boston.keys()))"
      ],
      "execution_count": 2,
      "outputs": [
        {
          "output_type": "stream",
          "text": [
            "dict_keys(['data', 'target', 'feature_names', 'DESCR', 'filename'])\n"
          ],
          "name": "stdout"
        }
      ]
    },
    {
      "cell_type": "code",
      "metadata": {
        "colab": {
          "base_uri": "https://localhost:8080/"
        },
        "id": "RNoW652QvAk9",
        "outputId": "b72b03c9-b9a1-4dab-a63e-69f0027dca4e"
      },
      "source": [
        "print(\"{}\".format(boston['data'].shape))"
      ],
      "execution_count": 5,
      "outputs": [
        {
          "output_type": "stream",
          "text": [
            "(506, 13)\n"
          ],
          "name": "stdout"
        }
      ]
    },
    {
      "cell_type": "code",
      "metadata": {
        "colab": {
          "base_uri": "https://localhost:8080/"
        },
        "id": "LnNWLvJvx9mn",
        "outputId": "2eafbd92-5a8d-40aa-c735-0e2036431c28"
      },
      "source": [
        "pip install mglearn"
      ],
      "execution_count": 8,
      "outputs": [
        {
          "output_type": "stream",
          "text": [
            "Collecting mglearn\n",
            "  Downloading mglearn-0.1.9.tar.gz (540 kB)\n",
            "\u001b[?25l\r\u001b[K     |▋                               | 10 kB 20.0 MB/s eta 0:00:01\r\u001b[K     |█▏                              | 20 kB 9.0 MB/s eta 0:00:01\r\u001b[K     |█▉                              | 30 kB 8.4 MB/s eta 0:00:01\r\u001b[K     |██▍                             | 40 kB 7.4 MB/s eta 0:00:01\r\u001b[K     |███                             | 51 kB 3.9 MB/s eta 0:00:01\r\u001b[K     |███▋                            | 61 kB 4.2 MB/s eta 0:00:01\r\u001b[K     |████▎                           | 71 kB 4.3 MB/s eta 0:00:01\r\u001b[K     |████▉                           | 81 kB 4.8 MB/s eta 0:00:01\r\u001b[K     |█████▌                          | 92 kB 4.9 MB/s eta 0:00:01\r\u001b[K     |██████                          | 102 kB 4.0 MB/s eta 0:00:01\r\u001b[K     |██████▊                         | 112 kB 4.0 MB/s eta 0:00:01\r\u001b[K     |███████▎                        | 122 kB 4.0 MB/s eta 0:00:01\r\u001b[K     |███████▉                        | 133 kB 4.0 MB/s eta 0:00:01\r\u001b[K     |████████▌                       | 143 kB 4.0 MB/s eta 0:00:01\r\u001b[K     |█████████                       | 153 kB 4.0 MB/s eta 0:00:01\r\u001b[K     |█████████▊                      | 163 kB 4.0 MB/s eta 0:00:01\r\u001b[K     |██████████▎                     | 174 kB 4.0 MB/s eta 0:00:01\r\u001b[K     |███████████                     | 184 kB 4.0 MB/s eta 0:00:01\r\u001b[K     |███████████▌                    | 194 kB 4.0 MB/s eta 0:00:01\r\u001b[K     |████████████▏                   | 204 kB 4.0 MB/s eta 0:00:01\r\u001b[K     |████████████▊                   | 215 kB 4.0 MB/s eta 0:00:01\r\u001b[K     |█████████████▍                  | 225 kB 4.0 MB/s eta 0:00:01\r\u001b[K     |██████████████                  | 235 kB 4.0 MB/s eta 0:00:01\r\u001b[K     |██████████████▋                 | 245 kB 4.0 MB/s eta 0:00:01\r\u001b[K     |███████████████▏                | 256 kB 4.0 MB/s eta 0:00:01\r\u001b[K     |███████████████▊                | 266 kB 4.0 MB/s eta 0:00:01\r\u001b[K     |████████████████▍               | 276 kB 4.0 MB/s eta 0:00:01\r\u001b[K     |█████████████████               | 286 kB 4.0 MB/s eta 0:00:01\r\u001b[K     |█████████████████▋              | 296 kB 4.0 MB/s eta 0:00:01\r\u001b[K     |██████████████████▏             | 307 kB 4.0 MB/s eta 0:00:01\r\u001b[K     |██████████████████▉             | 317 kB 4.0 MB/s eta 0:00:01\r\u001b[K     |███████████████████▍            | 327 kB 4.0 MB/s eta 0:00:01\r\u001b[K     |████████████████████            | 337 kB 4.0 MB/s eta 0:00:01\r\u001b[K     |████████████████████▋           | 348 kB 4.0 MB/s eta 0:00:01\r\u001b[K     |█████████████████████▎          | 358 kB 4.0 MB/s eta 0:00:01\r\u001b[K     |█████████████████████▉          | 368 kB 4.0 MB/s eta 0:00:01\r\u001b[K     |██████████████████████▌         | 378 kB 4.0 MB/s eta 0:00:01\r\u001b[K     |███████████████████████         | 389 kB 4.0 MB/s eta 0:00:01\r\u001b[K     |███████████████████████▋        | 399 kB 4.0 MB/s eta 0:00:01\r\u001b[K     |████████████████████████▎       | 409 kB 4.0 MB/s eta 0:00:01\r\u001b[K     |████████████████████████▉       | 419 kB 4.0 MB/s eta 0:00:01\r\u001b[K     |█████████████████████████▌      | 430 kB 4.0 MB/s eta 0:00:01\r\u001b[K     |██████████████████████████      | 440 kB 4.0 MB/s eta 0:00:01\r\u001b[K     |██████████████████████████▊     | 450 kB 4.0 MB/s eta 0:00:01\r\u001b[K     |███████████████████████████▎    | 460 kB 4.0 MB/s eta 0:00:01\r\u001b[K     |████████████████████████████    | 471 kB 4.0 MB/s eta 0:00:01\r\u001b[K     |████████████████████████████▌   | 481 kB 4.0 MB/s eta 0:00:01\r\u001b[K     |█████████████████████████████▏  | 491 kB 4.0 MB/s eta 0:00:01\r\u001b[K     |█████████████████████████████▊  | 501 kB 4.0 MB/s eta 0:00:01\r\u001b[K     |██████████████████████████████▍ | 512 kB 4.0 MB/s eta 0:00:01\r\u001b[K     |███████████████████████████████ | 522 kB 4.0 MB/s eta 0:00:01\r\u001b[K     |███████████████████████████████▌| 532 kB 4.0 MB/s eta 0:00:01\r\u001b[K     |████████████████████████████████| 540 kB 4.0 MB/s \n",
            "\u001b[?25hRequirement already satisfied: numpy in /usr/local/lib/python3.7/dist-packages (from mglearn) (1.19.5)\n",
            "Requirement already satisfied: matplotlib in /usr/local/lib/python3.7/dist-packages (from mglearn) (3.2.2)\n",
            "Requirement already satisfied: scikit-learn in /usr/local/lib/python3.7/dist-packages (from mglearn) (0.22.2.post1)\n",
            "Requirement already satisfied: pandas in /usr/local/lib/python3.7/dist-packages (from mglearn) (1.1.5)\n",
            "Requirement already satisfied: pillow in /usr/local/lib/python3.7/dist-packages (from mglearn) (7.1.2)\n",
            "Requirement already satisfied: cycler in /usr/local/lib/python3.7/dist-packages (from mglearn) (0.10.0)\n",
            "Requirement already satisfied: imageio in /usr/local/lib/python3.7/dist-packages (from mglearn) (2.4.1)\n",
            "Requirement already satisfied: joblib in /usr/local/lib/python3.7/dist-packages (from mglearn) (1.0.1)\n",
            "Requirement already satisfied: six in /usr/local/lib/python3.7/dist-packages (from cycler->mglearn) (1.15.0)\n",
            "Requirement already satisfied: pyparsing!=2.0.4,!=2.1.2,!=2.1.6,>=2.0.1 in /usr/local/lib/python3.7/dist-packages (from matplotlib->mglearn) (2.4.7)\n",
            "Requirement already satisfied: python-dateutil>=2.1 in /usr/local/lib/python3.7/dist-packages (from matplotlib->mglearn) (2.8.2)\n",
            "Requirement already satisfied: kiwisolver>=1.0.1 in /usr/local/lib/python3.7/dist-packages (from matplotlib->mglearn) (1.3.1)\n",
            "Requirement already satisfied: pytz>=2017.2 in /usr/local/lib/python3.7/dist-packages (from pandas->mglearn) (2018.9)\n",
            "Requirement already satisfied: scipy>=0.17.0 in /usr/local/lib/python3.7/dist-packages (from scikit-learn->mglearn) (1.4.1)\n",
            "Building wheels for collected packages: mglearn\n",
            "  Building wheel for mglearn (setup.py) ... \u001b[?25l\u001b[?25hdone\n",
            "  Created wheel for mglearn: filename=mglearn-0.1.9-py2.py3-none-any.whl size=582637 sha256=a05843403ef52173ce74103c36913152da73beff1d45d011a5ffa91b6cd82037\n",
            "  Stored in directory: /root/.cache/pip/wheels/f1/17/e1/1720d6dcd70187b6b6c3750cb3508798f2b1d57c9d3214b08b\n",
            "Successfully built mglearn\n",
            "Installing collected packages: mglearn\n",
            "Successfully installed mglearn-0.1.9\n"
          ],
          "name": "stdout"
        }
      ]
    },
    {
      "cell_type": "code",
      "metadata": {
        "colab": {
          "base_uri": "https://localhost:8080/"
        },
        "id": "uU3wT_1CvnYZ",
        "outputId": "df3f9520-d205-4cbf-83f6-d0ab18f84182"
      },
      "source": [
        "import mglearn\n",
        "X, y = mglearn.datasets.load_extended_boston()\n",
        "print(\"X.shpae: {}\".format(X.shape))"
      ],
      "execution_count": 10,
      "outputs": [
        {
          "output_type": "stream",
          "text": [
            "X.shpae: (506, 104)\n"
          ],
          "name": "stdout"
        }
      ]
    },
    {
      "cell_type": "code",
      "metadata": {
        "colab": {
          "base_uri": "https://localhost:8080/",
          "height": 301
        },
        "id": "0tc_39DRycNi",
        "outputId": "6b897253-4824-4a2f-f81b-7e9385bde231"
      },
      "source": [
        "mglearn.plots.plot_knn_classification(n_neighbors=1)"
      ],
      "execution_count": 11,
      "outputs": [
        {
          "output_type": "stream",
          "text": [
            "/usr/local/lib/python3.7/dist-packages/sklearn/utils/deprecation.py:87: FutureWarning: Function make_blobs is deprecated; Please import make_blobs directly from scikit-learn\n",
            "  warnings.warn(msg, category=FutureWarning)\n"
          ],
          "name": "stderr"
        },
        {
          "output_type": "display_data",
          "data": {
            "image/png": "[encoded data removed]",
            "text/plain": [
              "<Figure size 432x288 with 1 Axes>"
            ]
          },
          "metadata": {
            "tags": [],
            "needs_background": "light"
          }
        }
      ]
    },
    {
      "cell_type": "code",
      "metadata": {
        "colab": {
          "base_uri": "https://localhost:8080/"
        },
        "id": "T61k4sZg6ShE",
        "outputId": "2fd22540-cec7-4148-b205-6915d937cc86"
      },
      "source": [
        "#forge 데이터셋은 26개의 샘플과 2개의 특성을 갖고 있다.\n",
        "#q는 데이터셋, w는 정답 label\n",
        "q,w = mglearn.datasets.make_forge()\n",
        "print(type(w))\n",
        "print(w.shape)"
      ],
      "execution_count": 59,
      "outputs": [
        {
          "output_type": "stream",
          "text": [
            "<class 'numpy.ndarray'>\n",
            "(26,)\n"
          ],
          "name": "stdout"
        },
        {
          "output_type": "stream",
          "text": [
            "/usr/local/lib/python3.7/dist-packages/sklearn/utils/deprecation.py:87: FutureWarning: Function make_blobs is deprecated; Please import make_blobs directly from scikit-learn\n",
            "  warnings.warn(msg, category=FutureWarning)\n"
          ],
          "name": "stderr"
        }
      ]
    },
    {
      "cell_type": "code",
      "metadata": {
        "colab": {
          "base_uri": "https://localhost:8080/"
        },
        "id": "-AQodkqz2io8",
        "outputId": "130b3990-ad93-4c6b-86a4-9afb7674f131"
      },
      "source": [
        "from sklearn.model_selection import train_test_split\n",
        "X, y = mglearn.datasets.make_forge()\n",
        "X_train,X_test,y_train,y_test = train_test_split(X, y, random_state=0)"
      ],
      "execution_count": 18,
      "outputs": [
        {
          "output_type": "stream",
          "text": [
            "/usr/local/lib/python3.7/dist-packages/sklearn/utils/deprecation.py:87: FutureWarning: Function make_blobs is deprecated; Please import make_blobs directly from scikit-learn\n",
            "  warnings.warn(msg, category=FutureWarning)\n"
          ],
          "name": "stderr"
        }
      ]
    },
    {
      "cell_type": "code",
      "metadata": {
        "id": "w8JSBjig78cc"
      },
      "source": [
        "from sklearn.neighbors import KNeighborsClassifier\n",
        "clf = KNeighborsClassifier(n_neighbors=3)"
      ],
      "execution_count": 19,
      "outputs": []
    },
    {
      "cell_type": "code",
      "metadata": {
        "colab": {
          "base_uri": "https://localhost:8080/"
        },
        "id": "9DmJtyn78nYm",
        "outputId": "24bd4632-0111-40ec-9c21-99a36e10e07b"
      },
      "source": [
        "#훈련 세트를 사용하여 분류 모델을 학습시킨다.\n",
        "clf.fit(X_train, y_train)"
      ],
      "execution_count": 20,
      "outputs": [
        {
          "output_type": "execute_result",
          "data": {
            "text/plain": [
              "KNeighborsClassifier(algorithm='auto', leaf_size=30, metric='minkowski',\n",
              "                     metric_params=None, n_jobs=None, n_neighbors=3, p=2,\n",
              "                     weights='uniform')"
            ]
          },
          "metadata": {
            "tags": []
          },
          "execution_count": 20
        }
      ]
    },
    {
      "cell_type": "code",
      "metadata": {
        "colab": {
          "base_uri": "https://localhost:8080/"
        },
        "id": "Fbm38vpW837I",
        "outputId": "e4fb1a69-8692-408f-9e00-936d0e40028c"
      },
      "source": [
        "#테스트 데이터에 대해 predict 메서드를 호출해서 예측한다.\n",
        "#테스트 세트의 각 데이터 포인트에 대해 훈련 세트에서 가장 가까운 이웃을 계산한 다음 가장 많은 클래스를 찾는다.\n",
        "print(\"테스트 세트 예측 {}\".format(clf.predict(X_test)))"
      ],
      "execution_count": 21,
      "outputs": [
        {
          "output_type": "stream",
          "text": [
            "테스트 세트 예측 [1 0 1 0 1 0 0]\n"
          ],
          "name": "stdout"
        }
      ]
    },
    {
      "cell_type": "code",
      "metadata": {
        "colab": {
          "base_uri": "https://localhost:8080/"
        },
        "id": "eGxwN4N79S9O",
        "outputId": "b02ac621-d526-4bd7-f3cd-6c7a21daaea0"
      },
      "source": [
        "import numpy as np\n",
        "y_pred = clf.predict(X_test)\n",
        "print(y_pred)\n",
        "print(\"테스트 세트 정확도: {:.2f}\".format(np.mean(y_pred == y_test)))\n",
        "print(\"테스트 세트 정확도: {:.2f}\".format(clf.score(X_test,y_test)))\n"
      ],
      "execution_count": 26,
      "outputs": [
        {
          "output_type": "stream",
          "text": [
            "[1 0 1 0 1 0 0]\n",
            "테스트 세트 정확도: 0.86\n",
            "테스트 세트 정확도: 0.86\n"
          ],
          "name": "stdout"
        }
      ]
    },
    {
      "cell_type": "code",
      "metadata": {
        "id": "vr8PPHEX5TGe"
      },
      "source": [
        "!pip install mglearn"
      ],
      "execution_count": null,
      "outputs": []
    },
    {
      "cell_type": "code",
      "metadata": {
        "colab": {
          "base_uri": "https://localhost:8080/",
          "height": 548
        },
        "id": "JumDOCFcBQeJ",
        "outputId": "f902a4d7-820a-4900-efa4-7fe30ec32619"
      },
      "source": [
        "# fit 메서드는 self 객체를 반환한다. 그래서 객체 생성과 fit 메서드를 한 줄에 쓸 수 있다.\n",
        "#2차원 데이터셋이므로 가능한 모든 테스트 포인트의 예측을 xy 평면에 그려볼 수 있다. 클래스 0과 클래스 1로 지정한 영역으로 나뉘는 결정 경계(decision boundary)를 볼 수 있다.\n",
        "#이웃을 적게 사용하면 모델의 복잡도가 높아지고(overfitting), 이웃을 많이 사용하면 복잡도는 낮아진다.(underfitting)\n",
        "#훈련 데이터 전체 개수를 이웃의 수로 지정하는 극단적인 경우에는 모든 테스트 포인트가 같은 이웃(모든 훈련 데이터)을 가지게 되므로 테스트 포인트에 대한 예측은 모두 같은 값이 된다.\n",
        "#즉 훈련 세트에서 가장 많은 데이터 포인트를 가진 클래스가 예측값이 된다.\n",
        "import matplotlib.pyplot as plt\n",
        "from sklearn.neighbors import KNeighborsClassifier\n",
        "import mglearn\n",
        "X,y = mglearn.datasets.make_forge()\n",
        "fig, axes = plt.subplots(1,3, figsize =(10,3))\n",
        "\n",
        "for n_neighbors, ax in zip([1,3,9], axes):\n",
        "  clf = KNeighborsClassifier(n_neighbors=n_neighbors).fit(X, y)\n",
        "  mglearn.plots.plot_2d_separator(clf, X, fill=True, eps=0.5, ax=ax, alpha=.4)\n",
        "  mglearn.discrete_scatter(X[:, 0], X[:, 1], y, ax=ax)\n",
        "  ax.set_title(\"{} 이웃\".format(n_neighbors))\n",
        "  ax.set_xlabel(\"특성 0\")\n",
        "  ax.set_ylabel(\"특성 1\")\n",
        "axes[0].legend(loc=3)"
      ],
      "execution_count": 15,
      "outputs": [
        {
          "output_type": "stream",
          "text": [
            "/usr/local/lib/python3.7/dist-packages/sklearn/utils/deprecation.py:87: FutureWarning: Function make_blobs is deprecated; Please import make_blobs directly from scikit-learn\n",
            "  warnings.warn(msg, category=FutureWarning)\n"
          ],
          "name": "stderr"
        },
        {
          "output_type": "execute_result",
          "data": {
            "text/plain": [
              "<matplotlib.legend.Legend at 0x7f6be360c410>"
            ]
          },
          "metadata": {
            "tags": []
          },
          "execution_count": 15
        },
        {
          "output_type": "stream",
          "text": [
            "/usr/local/lib/python3.7/dist-packages/matplotlib/backends/backend_agg.py:214: RuntimeWarning: Glyph 51060 missing from current font.\n",
            "  font.set_text(s, 0.0, flags=flags)\n",
            "/usr/local/lib/python3.7/dist-packages/matplotlib/backends/backend_agg.py:214: RuntimeWarning: Glyph 50883 missing from current font.\n",
            "  font.set_text(s, 0.0, flags=flags)\n",
            "/usr/local/lib/python3.7/dist-packages/matplotlib/backends/backend_agg.py:214: RuntimeWarning: Glyph 53945 missing from current font.\n",
            "  font.set_text(s, 0.0, flags=flags)\n",
            "/usr/local/lib/python3.7/dist-packages/matplotlib/backends/backend_agg.py:214: RuntimeWarning: Glyph 49457 missing from current font.\n",
            "  font.set_text(s, 0.0, flags=flags)\n",
            "/usr/local/lib/python3.7/dist-packages/matplotlib/backends/backend_agg.py:183: RuntimeWarning: Glyph 53945 missing from current font.\n",
            "  font.set_text(s, 0, flags=flags)\n",
            "/usr/local/lib/python3.7/dist-packages/matplotlib/backends/backend_agg.py:183: RuntimeWarning: Glyph 49457 missing from current font.\n",
            "  font.set_text(s, 0, flags=flags)\n",
            "/usr/local/lib/python3.7/dist-packages/matplotlib/backends/backend_agg.py:183: RuntimeWarning: Glyph 51060 missing from current font.\n",
            "  font.set_text(s, 0, flags=flags)\n",
            "/usr/local/lib/python3.7/dist-packages/matplotlib/backends/backend_agg.py:183: RuntimeWarning: Glyph 50883 missing from current font.\n",
            "  font.set_text(s, 0, flags=flags)\n"
          ],
          "name": "stderr"
        },
        {
          "output_type": "display_data",
          "data": {
            "image/png": "[encoded data removed]",
            "text/plain": [
              "<Figure size 720x216 with 3 Axes>"
            ]
          },
          "metadata": {
            "tags": []
          }
        }
      ]
    },
    {
      "cell_type": "code",
      "metadata": {
        "id": "asJyd4zhLs2s"
      },
      "source": [
        ""
      ],
      "execution_count": null,
      "outputs": []
    }
  ]
}