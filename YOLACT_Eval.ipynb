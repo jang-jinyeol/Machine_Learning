{
  "nbformat": 4,
  "nbformat_minor": 0,
  "metadata": {
    "colab": {
      "name": "YOLACT-Eval.ipynb",
      "provenance": [],
      "collapsed_sections": [],
      "include_colab_link": true
    },
    "kernelspec": {
      "name": "python3",
      "display_name": "Python 3"
    },
    "accelerator": "GPU"
  },
  "cells": [
    {
      "cell_type": "markdown",
      "metadata": {
        "id": "view-in-github",
        "colab_type": "text"
      },
      "source": [
        "<a href=\"https://colab.research.google.com/github/jang-jinyeol/Machine_Learning/blob/main/YOLACT_Eval.ipynb\" target=\"_parent\"><img src=\"https://colab.research.google.com/assets/colab-badge.svg\" alt=\"Open In Colab\"/></a>"
      ]
    },
    {
      "cell_type": "markdown",
      "metadata": {
        "id": "YWzKi-xiGX-i"
      },
      "source": [
        "# YOLACT Google Colab Notebook\n",
        "Inference on images and video with [YOLACT](https://github.com/dbolya/yolact).\n",
        "\n",
        "## Google Colab\n",
        "This notebook is set up to work inside Google Colab, which is a free, Linux-based Jupyter Notebook environment hosted in the cloud.\n",
        "\n",
        "If you try it outside of Google Colab I'm not sure if it will work. I originally had problems running locally on my Windows machine, which is why I switched to this.\n",
        "\n",
        "### Runtime Setup\n",
        "- Go to Runtime > Change Runtime Type\n",
        "- Choose GPU (TPU won't work)\n",
        "\n",
        "## YOLACT\n",
        "YOLACT is a state of the art, real-time, single shot object segmentation algorithm detailed in these papers:  \n",
        "- [YOLACT: Real-time Instance Segmentation](https://arxiv.org/abs/1904.02689)\n",
        "- [YOLACT++: Better Real-time Instance Segmentation](https://arxiv.org/abs/1912.06218)\n",
        "\n",
        "**Big thanks to the authors: Daniel Bolya, Chong Zhou, Fanyi Xiao, Yong Jae Lee!**\n",
        "\n",
        "## Immersive Limit\n",
        "This notebook was created by Adam Kelly, instructor/creator of [immersivelimit.com](https://www.immersivelimit.com).\n",
        "- Subscribe for lots more awesome AI and 3D content on the [YouTube channel](https://www.youtube.com/c/immersivelimit)\n",
        "- Check out https://www.immersivelimit.com/connect for more ways to follow/connect 😀"
      ]
    },
    {
      "cell_type": "markdown",
      "metadata": {
        "id": "sPSX2B9oImsQ"
      },
      "source": [
        "# Initial Setup\n",
        "First, we install some Python libraries. Google Colab probably has these requirements already, but better to include them than to break later."
      ]
    },
    {
      "cell_type": "code",
      "metadata": {
        "id": "cU0BZLJHGSwn"
      },
      "source": [
        "# Cython needs to be installed before pycocotools\n",
        "!pip install cython\n",
        "!pip install opencv-python pillow pycocotools matplotlib"
      ],
      "execution_count": null,
      "outputs": []
    },
    {
      "cell_type": "code",
      "metadata": {
        "id": "EorT6buddx4X"
      },
      "source": [
        "# Downgrade torch to accommodate DCNv2\n",
        "!pip install torchvision==0.5.0\n",
        "!pip install torch==1.4.0\n"
      ],
      "execution_count": null,
      "outputs": []
    },
    {
      "cell_type": "markdown",
      "metadata": {
        "id": "i4EMaf9wI-_M"
      },
      "source": [
        "## Clone YOLACT from GitHub\n",
        "Let's get that github repo! If anything in this notebook breaks, check the repo in case they've made updates."
      ]
    },
    {
      "cell_type": "code",
      "metadata": {
        "id": "Jpmc_BiNI98H"
      },
      "source": [
        "# Make sure we're in the top folder\n",
        "%cd /content\n",
        "\n",
        "# Clone the repo\n",
        "!git clone https://github.com/dbolya/yolact.git"
      ],
      "execution_count": null,
      "outputs": []
    },
    {
      "cell_type": "markdown",
      "metadata": {
        "id": "mbb_tE0EJNFj"
      },
      "source": [
        "## DCNv2\n",
        "The DCNv2 external library is needed for this to work, so we'll build it now.\n",
        "\n",
        "**IF YOU GET CUDA ERRORS** You need to change the Runtime of this notebook to \"GPU\" as mentioned at the top of the notebook."
      ]
    },
    {
      "cell_type": "code",
      "metadata": {
        "id": "K7XrENaqJU1C"
      },
      "source": [
        "# Change to the right directory\n",
        "%cd /content/yolact/external/DCNv2\n",
        "\n",
        "# Build DCNv2\n",
        "!python setup.py build develop"
      ],
      "execution_count": null,
      "outputs": []
    },
    {
      "cell_type": "markdown",
      "metadata": {
        "id": "BryENed-JXF8"
      },
      "source": [
        "## Pretrained Weights\n",
        "In order to run inference, we'll need some pre-trained weights. The creator of the GitHub repo shared them on Google Drive. We're going to use a [helpful tool](https://github.com/chentinghao/download_google_drive) made by [chentinghao](https://github.com/chentinghao) to easily access the Drive file from Colab.\n",
        "\n",
        "If this stops working, it's probably because the weights moved to a different location. Check the YOLACT github repo to see where they went."
      ]
    },
    {
      "cell_type": "code",
      "metadata": {
        "id": "683HeW9lJ6cA"
      },
      "source": [
        "# Make sure we're in the top folder\n",
        "%cd /content\n",
        "\n",
        "# Clone the repo\n",
        "!git clone https://github.com/chentinghao/download_google_drive.git\n",
        "\n",
        "# Create a new directory for the pre-trained weights\n",
        "!mkdir -p /content/yolact/weights\n",
        "\n",
        "# Download the file\n",
        "!python ./download_google_drive/download_gdrive.py 1ZPu1YR2UzGHQD0o1rEqy-j5bmEm3lbyP ./yolact/weights/yolact_plus_resnet50_54_800000.pth"
      ],
      "execution_count": null,
      "outputs": []
    },
    {
      "cell_type": "markdown",
      "metadata": {
        "id": "RytTtzjjKVXQ"
      },
      "source": [
        "# Get Test Images\n",
        "We'll download a few test images from the [COCO dataset](http://cocodataset.org/#explore). Feel free to try out your own images as well, but know that there are only 80 categories and they're not intended to cover everything, so if you upload a picture of a snake, a mouse, and a cat, only the cat will be detected."
      ]
    },
    {
      "cell_type": "code",
      "metadata": {
        "id": "OgbAWb-QKflZ"
      },
      "source": [
        "# Make a new directory for the test images\n",
        "!mkdir /content/test_images\n",
        "\n",
        "# Move to the new directory\n",
        "%cd /content/test_images\n",
        "\n",
        "# Make a list of URLs from the COCO dataset\n",
        "get_imgs = ['http://farm8.staticflickr.com/7200/6946559805_7edf757660_z.jpg',\n",
        "            'http://farm3.staticflickr.com/2835/9520716824_51220b13d0_z.jpg',\n",
        "            'http://farm3.staticflickr.com/2817/10105052924_0c8d79e62c_z.jpg',\n",
        "            'https://farm3.staticflickr.com/2637/3679968895_37a79e55b3_z.jpg',\n",
        "            'https://farm8.staticflickr.com/7137/7705349298_6bea29cf1c_z.jpg',\n",
        "            'http://farm5.staticflickr.com/4105/4981945644_3f162314ed_z.jpg',\n",
        "            'http://farm1.staticflickr.com/40/101757885_a8fc40e273_z.jpg',\n",
        "            'http://farm3.staticflickr.com/2654/3897535041_fa8dd5570b_z.jpg']\n",
        "\n",
        "# Download all the images\n",
        "for img_url in get_imgs:\n",
        "  !wget {img_url} -nc\n",
        "\n",
        "# List the contents of the folder. Should have images.\n",
        "!pwd\n",
        "!ls"
      ],
      "execution_count": null,
      "outputs": []
    },
    {
      "cell_type": "markdown",
      "metadata": {
        "id": "FzviTOC-NlH2"
      },
      "source": [
        "# Run Inference on Images\n",
        "Let's run inference. We do that with eval.py"
      ]
    },
    {
      "cell_type": "code",
      "metadata": {
        "id": "2mPeJJ4bNoQy"
      },
      "source": [
        "# Move up to the top level directory\n",
        "%cd /content\n",
        "\n",
        "# Delete any previous output_images folder (in case we're running this more than once)\n",
        "!rm /content/output_images -r\n",
        "\n",
        "# Create a new directory for output images\n",
        "!mkdir -p /content/output_images\n",
        "\n",
        "# Run inference using our pre-trained weights on all images in the directory\n",
        "!python ./yolact/eval.py --trained_model=./yolact/weights/yolact_plus_resnet50_54_800000.pth --config=yolact_plus_resnet50_config --score_threshold=0.15 --top_k=15 --images=test_images:output_images"
      ],
      "execution_count": null,
      "outputs": []
    },
    {
      "cell_type": "markdown",
      "metadata": {
        "id": "ADqPvYayODaQ"
      },
      "source": [
        "## Display Output Images\n",
        "The last step saved output images, so we'll display those now."
      ]
    },
    {
      "cell_type": "code",
      "metadata": {
        "id": "4U2u5-LKOHeV"
      },
      "source": [
        "import cv2\n",
        "import numpy as np\n",
        "from matplotlib import pyplot as plt\n",
        "from pathlib import Path\n",
        "\n",
        "output_images = Path('output_images')\n",
        "\n",
        "def show_image(img_path):\n",
        "  img = cv2.imread(img_path)\n",
        "  img_cvt=cv2.cvtColor(img, cv2.COLOR_BGR2RGB)\n",
        "  plt.figure(figsize=(16,16))\n",
        "  plt.imshow(img_cvt)\n",
        "  plt.show()\n",
        "\n",
        "# Iterate through all of the output images and display them\n",
        "for img_path in output_images.iterdir():\n",
        "  print(img_path)\n",
        "  show_image(str(img_path))"
      ],
      "execution_count": null,
      "outputs": []
    },
    {
      "cell_type": "markdown",
      "metadata": {
        "id": "AdA08pp_P-K8"
      },
      "source": [
        "# Run Inference on Video\n",
        "I can't figure out how to get Google Colab to show the output video in the notebook, so I've uploaded the video to YouTube. The mask quality is incredible. There are some false positives because it thinks the rocks are sheep, but we'll give it a pass because it's never been told what a rock is before (COCO dataset doesn't contain rocks) and the rocks do look a bit sheepish.\n"
      ]
    },
    {
      "cell_type": "code",
      "metadata": {
        "id": "q8rer-0nEr2p"
      },
      "source": [
        "from IPython.display import HTML\n",
        "HTML('<iframe width=\"1280\" height=\"720\" src=\"https://www.youtube.com/embed/bQgtmbzN7jg\" frameborder=\"0\" allow=\"accelerometer; autoplay; encrypted-media; gyroscope; picture-in-picture\" allowfullscreen></iframe>')"
      ],
      "execution_count": null,
      "outputs": []
    },
    {
      "cell_type": "markdown",
      "metadata": {
        "id": "tFbdr7LvIQAU"
      },
      "source": [
        "If you'd like to process your own video, you can modify the steps below."
      ]
    },
    {
      "cell_type": "code",
      "metadata": {
        "id": "ISbrP30ZQNya"
      },
      "source": [
        "# Make a new directory for the test images\n",
        "!mkdir -p /content/test_video\n",
        "\n",
        "# Move to the top level directory\n",
        "%cd /content\n",
        "\n",
        "# Download the file\n",
        "# https://drive.google.com/file/d/1I4fivRLniVNt_LcWqhQNehTSdEkZ4ytW/view?usp=sharing\n",
        "# Note that file_id is extracted from the share URL above, it'll be different for every file\n",
        "file_id = \"1I4fivRLniVNt_LcWqhQNehTSdEkZ4ytW\"\n",
        "file_path = \"/content/test_video/giraffes_full_720.mp4\" # <- this is the destination path\n",
        "\n",
        "!python /content/download_google_drive/download_gdrive.py {file_id} {file_path}\n",
        "\n",
        "!ls /content/test_video"
      ],
      "execution_count": null,
      "outputs": []
    },
    {
      "cell_type": "markdown",
      "metadata": {
        "id": "rl4CgdmtQxQL"
      },
      "source": [
        "Now we run inference."
      ]
    },
    {
      "cell_type": "code",
      "metadata": {
        "id": "5BBQqP3FQ0wN"
      },
      "source": [
        "%cd /content\n",
        "!mkdir -p /content/output_videos\n",
        "output_path = \"/content/output_videos/giraffes_full_720_output.mp4\"\n",
        "!python ./yolact/eval.py --trained_model=./yolact/weights/yolact_plus_resnet50_54_800000.pth --score_threshold=0.15 --top_k=15 --video_multiframe=4 --video={file_path}:{output_path}"
      ],
      "execution_count": null,
      "outputs": []
    },
    {
      "cell_type": "markdown",
      "metadata": {
        "id": "4q2BWxoHQ9Ip"
      },
      "source": [
        "## Download the output file\n",
        "In this part, we'll mount your Google Drive and you can copy the file somewhere over there. I tried using the google.colab.files library to download the file, but it doesn't seem to like big video files.\n",
        "\n",
        "- You will need to authorize your Drive to connect, then it basically just links your drive as if it's a folder on this cloud computer.\n",
        "- **Be careful** because if you start deleting/modifying files in this folder, you will modify your personal Google Drive.\n"
      ]
    },
    {
      "cell_type": "code",
      "metadata": {
        "id": "Vm6PXYajQ5ib"
      },
      "source": [
        "from google.colab import drive\n",
        "drive.mount('/content/drive')"
      ],
      "execution_count": null,
      "outputs": []
    },
    {
      "cell_type": "code",
      "metadata": {
        "id": "4Q-UPar6WJdh"
      },
      "source": [
        "!mkdir -p /content/drive/My\\ Drive/YOLACT_output\n",
        "%cd /content/drive/My\\ Drive/YOLACT_output\n",
        "!ls"
      ],
      "execution_count": null,
      "outputs": []
    },
    {
      "cell_type": "code",
      "metadata": {
        "id": "OkyUSDSSXTFp"
      },
      "source": [
        "!cp {output_path} /content/drive/My\\ Drive/YOLACT_output/giraffes_full_720_output.mp4"
      ],
      "execution_count": null,
      "outputs": []
    },
    {
      "cell_type": "markdown",
      "metadata": {
        "id": "6VuqrmpmWjII"
      },
      "source": [
        "## Find the Video on Google Drive\n",
        "Now you should be able to view the file on your Google Drive in the YOLACT_output folder."
      ]
    },
    {
      "cell_type": "markdown",
      "metadata": {
        "id": "m-vDbmJnWy6Y"
      },
      "source": [
        "# Conclusion\n",
        "🎉 Woohoo! You did it! 🎉\n",
        "\n",
        "Thanks for checking out the notebook, I hope it was helpful!\n",
        "\n",
        "**If you liked it, consider sharing it!** YOLACT is pretty awesome, so more people should know about it.\n",
        "\n",
        "\n",
        "### Want to learn how to Train on a custom dataset?\n",
        "\n",
        "Check out this tutorial:\n",
        "\n",
        "[Train YOLACT with a Custom COCO Dataset | Immersive Limit](https://www.immersivelimit.com/tutorials/train-yolact-with-a-custom-coco-dataset)"
      ]
    },
    {
      "cell_type": "code",
      "metadata": {
        "id": "3sS6FExSXHyi"
      },
      "source": [
        ""
      ],
      "execution_count": null,
      "outputs": []
    }
  ]
}