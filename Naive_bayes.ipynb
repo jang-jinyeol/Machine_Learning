{
  "nbformat": 4,
  "nbformat_minor": 0,
  "metadata": {
    "colab": {
      "name": "Naive_bayes.ipynb",
      "provenance": [],
      "authorship_tag": "ABX9TyMNm33Z04UH8jAlSzJ2X6bx",
      "include_colab_link": true
    },
    "kernelspec": {
      "name": "python3",
      "display_name": "Python 3"
    },
    "language_info": {
      "name": "python"
    }
  },
  "cells": [
    {
      "cell_type": "markdown",
      "metadata": {
        "id": "view-in-github",
        "colab_type": "text"
      },
      "source": [
        "<a href=\"https://colab.research.google.com/github/jang-jinyeol/Machine_Learning/blob/main/Naive_bayes.ipynb\" target=\"_parent\"><img src=\"https://colab.research.google.com/assets/colab-badge.svg\" alt=\"Open In Colab\"/></a>"
      ]
    },
    {
      "cell_type": "code",
      "metadata": {
        "id": "kHKAODWFRrEO"
      },
      "source": [
        "나이브 베이즈 분류기는 앞 절의 선형 모델과 매우 유사하다.\n",
        "LogisticRegression이나 LinearSVC 같은 선형 분류기보다 훈련 속도가 빠른 편이지만, 그 대신 일반화 성능이 조금 뒤진다.\n",
        "나이브 베이즈 분류기가 효과적인 이유는 각 특성을 개별로 취급해 파라미터를 학습하고 각 특성에서 클래스별 통계를 단순하게 취합하기 때문이다.\n",
        "scikit-learn에 구현된 나이브 베이즈 분류기는 GaussianNB, BernoulliNB, MultinomialNB 이렇게 세 가지이다.\n",
        "BernoulliNB, MultinomialNB는 대부분 텍스트 데이터를 분류할 때 사용한다."
      ],
      "execution_count": null,
      "outputs": []
    },
    {
      "cell_type": "code",
      "metadata": {
        "id": "0L8tTtXAS857"
      },
      "source": [
        "import numpy as np\n",
        "X = np.array([[0, 1, 0, 1],\n",
        "              [1, 0, 1, 1],\n",
        "              [0, 0, 0, 1],\n",
        "              [1, 0, 1, 0]])\n",
        "y = np.array([0, 1, 0, 1])\n"
      ],
      "execution_count": 61,
      "outputs": []
    },
    {
      "cell_type": "code",
      "metadata": {
        "colab": {
          "base_uri": "https://localhost:8080/"
        },
        "id": "cfxi8MriS9Zy",
        "outputId": "6aa58b32-e86b-4532-a14a-1888e4b613c7"
      },
      "source": [
        "counts = {}\n",
        "for label in np.unique(y):\n",
        "    # 각 클래스에 대해 반복\n",
        "    # 특성마다 1 이 나타난 횟수를 센다.\n",
        "    counts[label] = X[y == label].sum(axis=0)\n",
        "print(\"특성 카운트:\\n\", counts)"
      ],
      "execution_count": 80,
      "outputs": [
        {
          "output_type": "stream",
          "text": [
            "특성 카운트:\n",
            " {0: array([0, 1, 0, 2]), 1: array([2, 0, 2, 1])}\n"
          ],
          "name": "stdout"
        }
      ]
    },
    {
      "cell_type": "code",
      "metadata": {
        "id": "TVQSBjAbTCiB"
      },
      "source": [
        ""
      ],
      "execution_count": null,
      "outputs": []
    }
  ]
}