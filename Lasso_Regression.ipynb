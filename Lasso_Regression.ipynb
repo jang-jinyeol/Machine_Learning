{
  "nbformat": 4,
  "nbformat_minor": 0,
  "metadata": {
    "colab": {
      "name": "Lasso_Regression.ipynb",
      "provenance": [],
      "collapsed_sections": [],
      "authorship_tag": "ABX9TyMy4d0NxZJywvRNrxyUkZO+",
      "include_colab_link": true
    },
    "kernelspec": {
      "name": "python3",
      "display_name": "Python 3"
    },
    "language_info": {
      "name": "python"
    }
  },
  "cells": [
    {
      "cell_type": "markdown",
      "metadata": {
        "id": "view-in-github",
        "colab_type": "text"
      },
      "source": [
        "<a href=\"https://colab.research.google.com/github/jang-jinyeol/Machine_Learning/blob/main/Lasso_Regression.ipynb\" target=\"_parent\"><img src=\"https://colab.research.google.com/assets/colab-badge.svg\" alt=\"Open In Colab\"/></a>"
      ]
    },
    {
      "cell_type": "code",
      "metadata": {
        "id": "rM3xLqAAmHL5"
      },
      "source": [
        "선형 회귀에 규제를 적용하는 데 Ridge의 대안으로 Lasso가 있다.\n",
        "릿지 회귀에서와 같이 라쏘도 계수를 0에 가깝게 만들려고 한다."
      ],
      "execution_count": null,
      "outputs": []
    }
  ]
}