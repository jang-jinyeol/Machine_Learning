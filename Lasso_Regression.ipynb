{
  "nbformat": 4,
  "nbformat_minor": 0,
  "metadata": {
    "colab": {
      "name": "Lasso_Regression.ipynb",
      "provenance": [],
      "collapsed_sections": [],
      "authorship_tag": "ABX9TyMVv7nLdhDORBTi0BZcmm9V",
      "include_colab_link": true
    },
    "kernelspec": {
      "name": "python3",
      "display_name": "Python 3"
    },
    "language_info": {
      "name": "python"
    }
  },
  "cells": [
    {
      "cell_type": "markdown",
      "metadata": {
        "id": "view-in-github",
        "colab_type": "text"
      },
      "source": [
        "<a href=\"https://colab.research.google.com/github/jang-jinyeol/Machine_Learning/blob/main/Lasso_Regression.ipynb\" target=\"_parent\"><img src=\"https://colab.research.google.com/assets/colab-badge.svg\" alt=\"Open In Colab\"/></a>"
      ]
    },
    {
      "cell_type": "code",
      "metadata": {
        "colab": {
          "base_uri": "https://localhost:8080/",
          "height": 136
        },
        "id": "rM3xLqAAmHL5",
        "outputId": "805c9980-68e7-4805-d095-494dc0cd5640"
      },
      "source": [
        "선형 회귀에 규제를 적용하는 데 Ridge의 대안으로 Lasso가 있다.\n",
        "릿지 회귀에서와 같이 라쏘도 계수를 0에 가깝게 만들려고 한다.\n",
        "이를 L1 규제라고 한다.\n",
        "L1 규제의 결과로 라쏘를 사용할 때 어떤 계수는 정말 0이 된다.\n",
        "일부 계수를 0으로 만들면 모델을 이해하기 쉬워지고 이 모델의 가장 중요한 특성이 무엇인지 드러내준다.\n",
        "아래에서 확장된 보스턴 주택가격 데이터셋에 라쏘를 적용해본다."
      ],
      "execution_count": null,
      "outputs": [
        {
          "output_type": "error",
          "ename": "SyntaxError",
          "evalue": "ignored",
          "traceback": [
            "\u001b[0;36m  File \u001b[0;32m\"<ipython-input-1-4d266e8a4f42>\"\u001b[0;36m, line \u001b[0;32m1\u001b[0m\n\u001b[0;31m    선형 회귀에 규제를 적용하는 데 Ridge의 대안으로 Lasso가 있다.\u001b[0m\n\u001b[0m         ^\u001b[0m\n\u001b[0;31mSyntaxError\u001b[0m\u001b[0;31m:\u001b[0m invalid syntax\n"
          ]
        }
      ]
    },
    {
      "cell_type": "code",
      "metadata": {
        "colab": {
          "base_uri": "https://localhost:8080/"
        },
        "id": "uadMlFX9PqfP",
        "outputId": "4e2990cc-7598-4267-a61b-6a04416802b8"
      },
      "source": [
        "!sudo apt-get install -y fonts-nanum\n",
        "!sudo fc-cache -fv\n",
        "!rm ~/.cache/matplotlib -rf\n",
        "\n",
        "import matplotlib.pyplot as plt\n",
        "plt.rc('font', family='NanumBarunGothic') "
      ],
      "execution_count": 8,
      "outputs": [
        {
          "output_type": "stream",
          "text": [
            "Reading package lists... Done\n",
            "Building dependency tree       \n",
            "Reading state information... Done\n",
            "fonts-nanum is already the newest version (20170925-1).\n",
            "The following package was automatically installed and is no longer required:\n",
            "  libnvidia-common-460\n",
            "Use 'sudo apt autoremove' to remove it.\n",
            "0 upgraded, 0 newly installed, 0 to remove and 40 not upgraded.\n",
            "/usr/share/fonts: caching, new cache contents: 0 fonts, 1 dirs\n",
            "/usr/share/fonts/truetype: caching, new cache contents: 0 fonts, 3 dirs\n",
            "/usr/share/fonts/truetype/humor-sans: caching, new cache contents: 1 fonts, 0 dirs\n",
            "/usr/share/fonts/truetype/liberation: caching, new cache contents: 16 fonts, 0 dirs\n",
            "/usr/share/fonts/truetype/nanum: caching, new cache contents: 10 fonts, 0 dirs\n",
            "/usr/local/share/fonts: caching, new cache contents: 0 fonts, 0 dirs\n",
            "/root/.local/share/fonts: skipping, no such directory\n",
            "/root/.fonts: skipping, no such directory\n",
            "/var/cache/fontconfig: cleaning cache directory\n",
            "/root/.cache/fontconfig: not cleaning non-existent cache directory\n",
            "/root/.fontconfig: not cleaning non-existent cache directory\n",
            "fc-cache: succeeded\n"
          ],
          "name": "stdout"
        }
      ]
    },
    {
      "cell_type": "code",
      "metadata": {
        "colab": {
          "base_uri": "https://localhost:8080/"
        },
        "id": "n6D0KYlZnf2_",
        "outputId": "5ba18e51-4054-4038-eab2-cb41bee4f36b"
      },
      "source": [
        "!pip install mglearn\n",
        "import mglearn"
      ],
      "execution_count": 4,
      "outputs": [
        {
          "output_type": "stream",
          "text": [
            "Requirement already satisfied: mglearn in /usr/local/lib/python3.7/dist-packages (0.1.9)\n",
            "Requirement already satisfied: scikit-learn in /usr/local/lib/python3.7/dist-packages (from mglearn) (0.22.2.post1)\n",
            "Requirement already satisfied: pandas in /usr/local/lib/python3.7/dist-packages (from mglearn) (1.1.5)\n",
            "Requirement already satisfied: matplotlib in /usr/local/lib/python3.7/dist-packages (from mglearn) (3.2.2)\n",
            "Requirement already satisfied: imageio in /usr/local/lib/python3.7/dist-packages (from mglearn) (2.4.1)\n",
            "Requirement already satisfied: joblib in /usr/local/lib/python3.7/dist-packages (from mglearn) (1.0.1)\n",
            "Requirement already satisfied: numpy in /usr/local/lib/python3.7/dist-packages (from mglearn) (1.19.5)\n",
            "Requirement already satisfied: cycler in /usr/local/lib/python3.7/dist-packages (from mglearn) (0.10.0)\n",
            "Requirement already satisfied: pillow in /usr/local/lib/python3.7/dist-packages (from mglearn) (7.1.2)\n",
            "Requirement already satisfied: six in /usr/local/lib/python3.7/dist-packages (from cycler->mglearn) (1.15.0)\n",
            "Requirement already satisfied: pyparsing!=2.0.4,!=2.1.2,!=2.1.6,>=2.0.1 in /usr/local/lib/python3.7/dist-packages (from matplotlib->mglearn) (2.4.7)\n",
            "Requirement already satisfied: python-dateutil>=2.1 in /usr/local/lib/python3.7/dist-packages (from matplotlib->mglearn) (2.8.2)\n",
            "Requirement already satisfied: kiwisolver>=1.0.1 in /usr/local/lib/python3.7/dist-packages (from matplotlib->mglearn) (1.3.1)\n",
            "Requirement already satisfied: pytz>=2017.2 in /usr/local/lib/python3.7/dist-packages (from pandas->mglearn) (2018.9)\n",
            "Requirement already satisfied: scipy>=0.17.0 in /usr/local/lib/python3.7/dist-packages (from scikit-learn->mglearn) (1.4.1)\n"
          ],
          "name": "stdout"
        }
      ]
    },
    {
      "cell_type": "code",
      "metadata": {
        "colab": {
          "base_uri": "https://localhost:8080/"
        },
        "id": "l5ZDXCQVnJFG",
        "outputId": "b239de62-97b8-4f79-d651-44f864c347dc"
      },
      "source": [
        "from sklearn.linear_model import Lasso\n",
        "from sklearn.model_selection import train_test_split\n",
        "import numpy as np\n",
        "X, y = mglearn.datasets.load_extended_boston()\n",
        "\n",
        "X_train,X_test,y_train,y_test = train_test_split(X,y,random_state=0)\n",
        "lasso = Lasso().fit(X_train, y_train)\n",
        "print(\"훈련 세트 점수: {:.2f}\".format(lasso.score(X_train,y_train)))\n",
        "print(\"테스트 세트 점수: {:.2f}\".format(lasso.score(X_test,y_test)))\n",
        "# Lasso도 계수를 얼마나 강하게 0으로 보낼지를 조절하는 alpha 매개변수를 지원한다 ( 기본 : alpha=1.0)\n",
        "print(\"사용한 특성의 수: {}\".format(np.sum(lasso.coef_ != 0)))\n",
        "# 과소적합이며 104개의 특성 중 4개만 사용한 것을 볼 수 있다. 과소적합을 줄이기 위해 alpha 값을 줄여보겠다"
      ],
      "execution_count": 5,
      "outputs": [
        {
          "output_type": "stream",
          "text": [
            "훈련 세트 점수: 0.29\n",
            "테스트 세트 점수: 0.21\n",
            "사용한 특성의 수: 4\n"
          ],
          "name": "stdout"
        }
      ]
    },
    {
      "cell_type": "code",
      "metadata": {
        "colab": {
          "base_uri": "https://localhost:8080/"
        },
        "id": "GqG6uE0kNoyK",
        "outputId": "a32a144a-1999-4a39-b037-eee146606839"
      },
      "source": [
        "from sklearn.linear_model import Ridge\n",
        "\n",
        "ridge01 = Ridge(alpha=0.1).fit(X_train,y_train)\n",
        "\n",
        "print(\"훈련 세트 점수: {:.2f}\".format(ridge01.score(X_train,y_train)))\n",
        "print(\"테스트 세트 점수: {:.2f}\".format(ridge01.score(X_test,y_test)))\n",
        "print(\"사용한 특성의 수: {}\".format(np.sum(ridge01.coef_ != 0)))\n",
        "\n"
      ],
      "execution_count": 6,
      "outputs": [
        {
          "output_type": "stream",
          "text": [
            "훈련 세트 점수: 0.93\n",
            "테스트 세트 점수: 0.77\n",
            "사용한 특성의 수: 104\n"
          ],
          "name": "stdout"
        }
      ]
    },
    {
      "cell_type": "code",
      "metadata": {
        "id": "uSIk04JaofrW",
        "colab": {
          "base_uri": "https://localhost:8080/",
          "height": 559
        },
        "outputId": "9864d62f-31f7-4e8c-fa06-1cb659f75cde"
      },
      "source": [
        "# 이렇게 하려면 max_iter(반복 실행하는 최대 횟수)의 기본값을 늘려야 한다.\n",
        "#  Lasso는 L1, L2 규제를 함께 쓰는 엘라스틱넷(Elastic_Net) 방식에서 L2 규제가 빠진 것이다.\n",
        "lasso001 = Lasso(alpha=0.01, max_iter=100000).fit(X_train,y_train)\n",
        "print(\"훈련 세트 점수: {:.2f}\".format(lasso001.score(X_train,y_train)))\n",
        "print(\"테스트 세트 점수: {:.2f}\".format(lasso001.score(X_test,y_test)))\n",
        "print(\"사용한 특성의 수: {}\".format(np.sum(lasso001.coef_ != 0)))\n",
        "\n",
        "# Ridge보다 사용된 특성이 적어서 모델을 분석하기가 조금 더 쉽다.\n",
        "# 사용된 특성은 104개 중 33개뿐이어서, 모델을 분석하기가 조금 더 쉽다.\n",
        "# 그러나 alpha 값을 너무 낮추면 규제의 효과가 없어져 과대적합이 되므로 LinearRegression의 결과와 비슷해진다.\n",
        "\n",
        "print('\\n')\n",
        "\n",
        "lasso00001 = Lasso(alpha=0.0001, max_iter=100000).fit(X_train,y_train)\n",
        "print(\"훈련 세트 점수: {:.2f}\".format(lasso00001.score(X_train,y_train)))\n",
        "print(\"테스트 세트 점수: {:.2f}\".format(lasso00001.score(X_test,y_test)))\n",
        "print(\"사용한 특성의 수: {}\".format(np.sum(lasso00001.coef_ != 0)))\n",
        "\n",
        "# alpha 값이 다른 모델들의 계수를 그래프로 그려보았다.\n",
        "\n",
        "import matplotlib.pyplot as plt\n",
        "plt.plot(lasso.coef_, 's', label=\"Lasso alpha=1\")\n",
        "plt.plot(lasso001.coef_, '^', label=\"Lasso alpha=0.01\")\n",
        "\n",
        "plt.plot(lasso00001.coef_, 'v', label=\"Lasso alpha=0.0001\")\n",
        "\n",
        "plt.plot(ridge01.coef_,'o', label=\"Ridge alpha=0.1\")\n",
        "plt.legend(ncol=2, loc=(0, 1.05))\n",
        "\n",
        "plt.ylim(-25, 25)\n",
        "plt.xlabel(\"계수 목록\")\n",
        "plt.ylabel(\"계수 크기\")\n",
        "\n",
        "\n"
      ],
      "execution_count": 9,
      "outputs": [
        {
          "output_type": "stream",
          "text": [
            "훈련 세트 점수: 0.90\n",
            "테스트 세트 점수: 0.77\n",
            "사용한 특성의 수: 33\n",
            "\n",
            "\n",
            "훈련 세트 점수: 0.95\n",
            "테스트 세트 점수: 0.64\n",
            "사용한 특성의 수: 96\n"
          ],
          "name": "stdout"
        },
        {
          "output_type": "execute_result",
          "data": {
            "text/plain": [
              "Text(0, 0.5, '계수 크기')"
            ]
          },
          "metadata": {},
          "execution_count": 9
        },
        {
          "output_type": "stream",
          "text": [
            "/usr/local/lib/python3.7/dist-packages/matplotlib/backends/backend_agg.py:214: RuntimeWarning: Glyph 8722 missing from current font.\n",
            "  font.set_text(s, 0.0, flags=flags)\n",
            "/usr/local/lib/python3.7/dist-packages/matplotlib/backends/backend_agg.py:183: RuntimeWarning: Glyph 8722 missing from current font.\n",
            "  font.set_text(s, 0, flags=flags)\n"
          ],
          "name": "stderr"
        },
        {
          "output_type": "display_data",
          "data": {
            "image/png": "[encoded data removed]",
            "text/plain": [
              "<Figure size 432x288 with 1 Axes>"
            ]
          },
          "metadata": {
            "needs_background": "light"
          }
        }
      ]
    },
    {
      "cell_type": "markdown",
      "metadata": {
        "id": "YVCRW9sZKG84"
      },
      "source": [
        ""
      ]
    },
    {
      "cell_type": "code",
      "metadata": {
        "id": "jLkU9vS8ubxb"
      },
      "source": [
        ""
      ],
      "execution_count": null,
      "outputs": []
    }
  ]
}